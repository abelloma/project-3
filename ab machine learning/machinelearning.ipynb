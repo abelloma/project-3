{
 "cells": [
  {
   "cell_type": "code",
   "execution_count": 40,
   "metadata": {
    "deletable": false,
    "editable": false,
    "nbgrader": {
     "checksum": "9492c7c543c200e39560276fe0a064e1",
     "grade": false,
     "grade_id": "cell-195a16dbc662c53b",
     "locked": true,
     "schema_version": 1,
     "solution": false
    }
   },
   "outputs": [],
   "source": [
    "%matplotlib inline\n",
    "import matplotlib.pyplot as plt\n",
    "import numpy as np\n",
    "import pandas as pd"
   ]
  },
  {
   "cell_type": "code",
   "execution_count": 41,
   "metadata": {},
   "outputs": [
    {
     "data": {
      "text/html": [
       "<div>\n",
       "<style scoped>\n",
       "    .dataframe tbody tr th:only-of-type {\n",
       "        vertical-align: middle;\n",
       "    }\n",
       "\n",
       "    .dataframe tbody tr th {\n",
       "        vertical-align: top;\n",
       "    }\n",
       "\n",
       "    .dataframe thead th {\n",
       "        text-align: right;\n",
       "    }\n",
       "</style>\n",
       "<table border=\"1\" class=\"dataframe\">\n",
       "  <thead>\n",
       "    <tr style=\"text-align: right;\">\n",
       "      <th></th>\n",
       "      <th>Unnamed: 0</th>\n",
       "      <th>state</th>\n",
       "      <th>income</th>\n",
       "      <th>abbr</th>\n",
       "      <th>brewery_count</th>\n",
       "      <th>population</th>\n",
       "      <th>wineries</th>\n",
       "      <th>pct_brewery</th>\n",
       "      <th>per_capita_beer</th>\n",
       "      <th>per_capita_wine</th>\n",
       "      <th>total_breweries</th>\n",
       "      <th>pct_winery</th>\n",
       "      <th>total_wineries</th>\n",
       "      <th>avg_temp</th>\n",
       "      <th>total_happiness_score</th>\n",
       "      <th>well_being_score</th>\n",
       "      <th>work_environment_score</th>\n",
       "      <th>community_environment_score</th>\n",
       "      <th>polictical_party</th>\n",
       "    </tr>\n",
       "  </thead>\n",
       "  <tbody>\n",
       "    <tr>\n",
       "      <th>0</th>\n",
       "      <td>0</td>\n",
       "      <td>ALABAMA</td>\n",
       "      <td>49936</td>\n",
       "      <td>AL</td>\n",
       "      <td>53</td>\n",
       "      <td>4887871</td>\n",
       "      <td>9</td>\n",
       "      <td>0.584537</td>\n",
       "      <td>92224</td>\n",
       "      <td>543097</td>\n",
       "      <td>9067</td>\n",
       "      <td>0.191002</td>\n",
       "      <td>4712</td>\n",
       "      <td>62.68</td>\n",
       "      <td>40.11</td>\n",
       "      <td>46</td>\n",
       "      <td>36</td>\n",
       "      <td>36</td>\n",
       "      <td>republican</td>\n",
       "    </tr>\n",
       "    <tr>\n",
       "      <th>1</th>\n",
       "      <td>1</td>\n",
       "      <td>ALASKA</td>\n",
       "      <td>68734</td>\n",
       "      <td>AK</td>\n",
       "      <td>49</td>\n",
       "      <td>737438</td>\n",
       "      <td>8</td>\n",
       "      <td>0.540421</td>\n",
       "      <td>15050</td>\n",
       "      <td>92180</td>\n",
       "      <td>9067</td>\n",
       "      <td>0.169779</td>\n",
       "      <td>4712</td>\n",
       "      <td>32.03</td>\n",
       "      <td>36.48</td>\n",
       "      <td>34</td>\n",
       "      <td>49</td>\n",
       "      <td>50</td>\n",
       "      <td>republican</td>\n",
       "    </tr>\n",
       "    <tr>\n",
       "      <th>2</th>\n",
       "      <td>2</td>\n",
       "      <td>ARIZONA</td>\n",
       "      <td>62283</td>\n",
       "      <td>AZ</td>\n",
       "      <td>129</td>\n",
       "      <td>7171646</td>\n",
       "      <td>26</td>\n",
       "      <td>1.422742</td>\n",
       "      <td>55594</td>\n",
       "      <td>275833</td>\n",
       "      <td>9067</td>\n",
       "      <td>0.551783</td>\n",
       "      <td>4712</td>\n",
       "      <td>65.97</td>\n",
       "      <td>53.95</td>\n",
       "      <td>24</td>\n",
       "      <td>7</td>\n",
       "      <td>31</td>\n",
       "      <td>republican</td>\n",
       "    </tr>\n",
       "    <tr>\n",
       "      <th>3</th>\n",
       "      <td>3</td>\n",
       "      <td>ARKANSAS</td>\n",
       "      <td>49781</td>\n",
       "      <td>AR</td>\n",
       "      <td>45</td>\n",
       "      <td>3013825</td>\n",
       "      <td>10</td>\n",
       "      <td>0.496305</td>\n",
       "      <td>66974</td>\n",
       "      <td>301382</td>\n",
       "      <td>9067</td>\n",
       "      <td>0.212224</td>\n",
       "      <td>4712</td>\n",
       "      <td>60.09</td>\n",
       "      <td>34.07</td>\n",
       "      <td>49</td>\n",
       "      <td>44</td>\n",
       "      <td>25</td>\n",
       "      <td>republican</td>\n",
       "    </tr>\n",
       "    <tr>\n",
       "      <th>4</th>\n",
       "      <td>4</td>\n",
       "      <td>CALIFORNIA</td>\n",
       "      <td>70489</td>\n",
       "      <td>CA</td>\n",
       "      <td>1019</td>\n",
       "      <td>39557045</td>\n",
       "      <td>2025</td>\n",
       "      <td>11.238557</td>\n",
       "      <td>38819</td>\n",
       "      <td>19534</td>\n",
       "      <td>9067</td>\n",
       "      <td>42.975382</td>\n",
       "      <td>4712</td>\n",
       "      <td>61.17</td>\n",
       "      <td>64.11</td>\n",
       "      <td>4</td>\n",
       "      <td>12</td>\n",
       "      <td>16</td>\n",
       "      <td>democrat</td>\n",
       "    </tr>\n",
       "  </tbody>\n",
       "</table>\n",
       "</div>"
      ],
      "text/plain": [
       "   Unnamed: 0       state  income abbr  brewery_count  population  wineries  \\\n",
       "0           0     ALABAMA   49936   AL             53     4887871         9   \n",
       "1           1      ALASKA   68734   AK             49      737438         8   \n",
       "2           2     ARIZONA   62283   AZ            129     7171646        26   \n",
       "3           3    ARKANSAS   49781   AR             45     3013825        10   \n",
       "4           4  CALIFORNIA   70489   CA           1019    39557045      2025   \n",
       "\n",
       "   pct_brewery  per_capita_beer  per_capita_wine  total_breweries  pct_winery  \\\n",
       "0     0.584537            92224           543097             9067    0.191002   \n",
       "1     0.540421            15050            92180             9067    0.169779   \n",
       "2     1.422742            55594           275833             9067    0.551783   \n",
       "3     0.496305            66974           301382             9067    0.212224   \n",
       "4    11.238557            38819            19534             9067   42.975382   \n",
       "\n",
       "   total_wineries  avg_temp  total_happiness_score  well_being_score  \\\n",
       "0            4712     62.68                  40.11                46   \n",
       "1            4712     32.03                  36.48                34   \n",
       "2            4712     65.97                  53.95                24   \n",
       "3            4712     60.09                  34.07                49   \n",
       "4            4712     61.17                  64.11                 4   \n",
       "\n",
       "   work_environment_score  community_environment_score polictical_party  \n",
       "0                      36                           36       republican  \n",
       "1                      49                           50       republican  \n",
       "2                       7                           31       republican  \n",
       "3                      44                           25       republican  \n",
       "4                      12                           16         democrat  "
      ]
     },
     "execution_count": 41,
     "metadata": {},
     "output_type": "execute_result"
    }
   ],
   "source": [
    "# Read the csv file into a pandas DataFrame\n",
    "\n",
    "beer = pd.read_csv('combined_data.csv')\n",
    "beer.head()"
   ]
  },
  {
   "cell_type": "code",
   "execution_count": 50,
   "metadata": {},
   "outputs": [],
   "source": [
    "beer2 = beer.drop([\"abbr\",\"pct_brewery\",\"total_breweries\",\"pct_winery\",\"total_wineries\", \"polictical_party\", \"per_capita_beer\", \"per_capita_wine\", \"work_environment_score\", \"community_environment_score\", \"well_being_score\"] , axis=1)\n",
    "beer2.head()\n",
    "beer2.reset_index(drop=True, inplace=True)"
   ]
  },
  {
   "cell_type": "code",
   "execution_count": 43,
   "metadata": {},
   "outputs": [
    {
     "data": {
      "image/png": "[encoded data removed]",
      "text/plain": [
       "<Figure size 432x288 with 1 Axes>"
      ]
     },
     "metadata": {
      "needs_background": "light"
     },
     "output_type": "display_data"
    }
   ],
   "source": [
    "X = beer[\"total_happiness_score\"]\n",
    "plt.hist(X, bins=30)\n",
    "plt.title(\"Happiness Score Histogram\")\n",
    "plt.xlabel(\"Hapiness Score\")\n",
    "plt.ylabel(\"# of rows\")\n",
    "plt.show()"
   ]
  },
  {
   "cell_type": "code",
   "execution_count": 52,
   "metadata": {},
   "outputs": [
    {
     "name": "stdout",
     "output_type": "stream",
     "text": [
      "Populating the interactive namespace from numpy and matplotlib\n"
     ]
    },
    {
     "data": {
      "image/png": "[encoded data removed]",
      "text/plain": [
       "<Figure size 504x432 with 2 Axes>"
      ]
     },
     "metadata": {
      "needs_background": "light"
     },
     "output_type": "display_data"
    }
   ],
   "source": [
    "import seaborn as sn\n",
    "\n",
    "%pylab inline\n",
    "# pylab.rcParams['figure.figsize'] = (11, 10)\n",
    "pylab.rcParams['figure.figsize'] = (7, 6)\n",
    "sn.heatmap(beer2.corr(), annot=True)\n",
    "plt.title(\"Correlation matrix\")\n",
    "plt.show()"
   ]
  },
  {
   "cell_type": "code",
   "execution_count": 44,
   "metadata": {},
   "outputs": [
    {
     "name": "stdout",
     "output_type": "stream",
     "text": [
      "(50, 4) (50, 1)\n"
     ]
    }
   ],
   "source": [
    "# Assign the data to X and y\n",
    "\n",
    "X = beer[[\"brewery_count\", \"income\", \"avg_temp\", \"population\"]]\n",
    "y = beer[\"total_happiness_score\"].values.reshape(-1, 1)\n",
    "print(X.shape, y.shape)"
   ]
  },
  {
   "cell_type": "code",
   "execution_count": 45,
   "metadata": {
    "deletable": false,
    "nbgrader": {
     "checksum": "0e9dac23ec6d6b0990cda5e7c69b2fc4",
     "grade": false,
     "grade_id": "cell-97f9d8f3d4b7abc1",
     "locked": false,
     "schema_version": 1,
     "solution": true
    }
   },
   "outputs": [],
   "source": [
    "# Use train_test_split to create training and testing data\n",
    "\n",
    "# YOUR CODE HERE\n",
    "from sklearn.model_selection import train_test_split\n",
    "\n",
    "X_train, X_test, y_train, y_test = train_test_split(X, y, random_state=42)"
   ]
  },
  {
   "cell_type": "code",
   "execution_count": 46,
   "metadata": {
    "deletable": false,
    "nbgrader": {
     "checksum": "615165fed89fc8535984670ca2b2c761",
     "grade": false,
     "grade_id": "cell-500eedfd487be441",
     "locked": false,
     "schema_version": 1,
     "solution": true
    }
   },
   "outputs": [],
   "source": [
    "# Create the model using LinearRegression\n",
    "\n",
    "# YOUR CODE HERE\n",
    "from sklearn.linear_model import LinearRegression\n",
    "model = LinearRegression()\n"
   ]
  },
  {
   "cell_type": "code",
   "execution_count": 47,
   "metadata": {
    "deletable": false,
    "nbgrader": {
     "checksum": "6edcc8709c42983e117c0c4ccb450faf",
     "grade": false,
     "grade_id": "cell-715f0369813d2b84",
     "locked": false,
     "schema_version": 1,
     "solution": true
    }
   },
   "outputs": [
    {
     "name": "stdout",
     "output_type": "stream",
     "text": [
      "Training Score: 0.5525719503267827\n",
      "Testing Score: 0.2511162861681989\n"
     ]
    }
   ],
   "source": [
    "# Fit the model to the training data and calculate the scores for the training and testing data\n",
    "model.fit(X_train, y_train)\n",
    "training_score = model.score(X_train, y_train)\n",
    "testing_score = model.score(X_test, y_test)\n",
    "# YOUR CODE HERE\n",
    "\n",
    "print(f\"Training Score: {training_score}\")\n",
    "print(f\"Testing Score: {testing_score}\")"
   ]
  },
  {
   "cell_type": "code",
   "execution_count": 48,
   "metadata": {
    "deletable": false,
    "nbgrader": {
     "checksum": "5a2a77d68ae0624a32c380992445befe",
     "grade": false,
     "grade_id": "cell-90aed41fb7c4f723",
     "locked": false,
     "schema_version": 1,
     "solution": true
    }
   },
   "outputs": [
    {
     "data": {
      "text/plain": [
       "Text(0.5, 1.0, 'Residual Plot')"
      ]
     },
     "execution_count": 48,
     "metadata": {},
     "output_type": "execute_result"
    },
    {
     "data": {
      "image/png": "[encoded data removed]",
      "text/plain": [
       "<Figure size 432x288 with 1 Axes>"
      ]
     },
     "metadata": {
      "needs_background": "light"
     },
     "output_type": "display_data"
    }
   ],
   "source": [
    "# Plot the Residuals for the Training and Testing data\n",
    "predictions = model.predict(X)\n",
    "# Plot Residuals\n",
    "plt.scatter(model.predict(X_train), model.predict(X_train) - y_train, c='blue', label=\"Training Data\")\n",
    "plt.scatter(model.predict(X_test), model.predict(X_test) - y_test, c='orange', label=\"Test Data\")\n",
    "plt.legend()\n",
    "plt.hlines(y=0, xmin=y.min(), xmax=y.max())\n",
    "plt.title(\"Residual Plot\")\n",
    "# YOUR CODE HERE"
   ]
  },
  {
   "cell_type": "code",
   "execution_count": 49,
   "metadata": {},
   "outputs": [
    {
     "name": "stdout",
     "output_type": "stream",
     "text": [
      "R^2 score: -0.1938481755898167\n"
     ]
    }
   ],
   "source": [
    "from sklearn import linear_model\n",
    "from sklearn.model_selection import train_test_split\n",
    "reg = linear_model.LinearRegression()\n",
    "\n",
    "X_columns = [\"population\", \"income\", \"total_breweries\", \"avg_temp\"]\n",
    "\n",
    "train = beer.sample(random_state=42)\n",
    "test = beer.drop(train.index)\n",
    "\n",
    "X_train = train[X_columns]\n",
    "y_train = train[\"total_happiness_score\"]\n",
    "X_test = test[X_columns]\n",
    "y_test = test[\"total_happiness_score\"]\n",
    "\n",
    "reg.fit(X_train, y_train)\n",
    "print(\"R^2 score:\", reg.score(X_test, y_test))"
   ]
  },
  {
   "cell_type": "code",
   "execution_count": 21,
   "metadata": {},
   "outputs": [
    {
     "name": "stdout",
     "output_type": "stream",
     "text": [
      "R^2 poly score: -0.8328709093439459\n"
     ]
    }
   ],
   "source": [
    "# Predicting happiness using linear model, adding polynomial features\n",
    "from sklearn import linear_model\n",
    "from sklearn.model_selection import train_test_split\n",
    "from sklearn.preprocessing import PolynomialFeatures\n",
    "reg = linear_model.LinearRegression()\n",
    "poly = PolynomialFeatures(2)\n",
    "\n",
    "X_columns = [ \"population\", \"total_breweries\"]\n",
    "\n",
    "train = beer.sample(frac=0.8,random_state=42)\n",
    "test = beer.drop(train.index)\n",
    "\n",
    "X_train = train[X_columns]\n",
    "y_train = train[\"total_happiness_score\"]\n",
    "X_test = test[X_columns]\n",
    "y_test = test[\"total_happiness_score\"]\n",
    "\n",
    "X_train = poly.fit_transform(X_train)\n",
    "X_test = poly.fit_transform(X_test)\n",
    "\n",
    "reg.fit(X_train, y_train)\n",
    "print(\"R^2 poly score:\", reg.score(X_test, y_test))"
   ]
  },
  {
   "cell_type": "code",
   "execution_count": null,
   "metadata": {},
   "outputs": [],
   "source": []
  }
 ],
 "metadata": {
  "kernelspec": {
   "display_name": "Python 3",
   "language": "python",
   "name": "python3"
  },
  "language_info": {
   "codemirror_mode": {
    "name": "ipython",
    "version": 3
   },
   "file_extension": ".py",
   "mimetype": "text/x-python",
   "name": "python",
   "nbconvert_exporter": "python",
   "pygments_lexer": "ipython3",
   "version": "3.7.5"
  },
  "varInspector": {
   "cols": {
    "lenName": 16,
    "lenType": 16,
    "lenVar": 40
   },
   "kernels_config": {
    "python": {
     "delete_cmd_postfix": "",
     "delete_cmd_prefix": "del ",
     "library": "var_list.py",
     "varRefreshCmd": "print(var_dic_list())"
    },
    "r": {
     "delete_cmd_postfix": ") ",
     "delete_cmd_prefix": "rm(",
     "library": "var_list.r",
     "varRefreshCmd": "cat(var_dic_list()) "
    }
   },
   "types_to_exclude": [
    "module",
    "function",
    "builtin_function_or_method",
    "instance",
    "_Feature"
   ],
   "window_display": false
  }
 },
 "nbformat": 4,
 "nbformat_minor": 2
}
